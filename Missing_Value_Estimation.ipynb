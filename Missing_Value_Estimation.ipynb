{
  "nbformat": 4,
  "nbformat_minor": 0,
  "metadata": {
    "colab": {
      "provenance": []
    },
    "kernelspec": {
      "name": "python3",
      "display_name": "Python 3"
    },
    "language_info": {
      "name": "python"
    }
  },
  "cells": [
    {
      "cell_type": "code",
      "execution_count": 1,
      "metadata": {
        "colab": {
          "base_uri": "https://localhost:8080/"
        },
        "id": "pavd9wdL07W7",
        "outputId": "0c61634f-ff97-4dd3-afe1-68213cb7b5a3"
      },
      "outputs": [
        {
          "output_type": "stream",
          "name": "stdout",
          "text": [
            "Dataset1 Mean Imputation complete. Saved to Dataset1_MeanImputed.txt\n",
            "Dataset1 k-NN Imputation complete. Saved to Dataset1_KNNImputed.txt\n",
            "Dataset2 Mean Imputation complete. Saved to Dataset2_MeanImputed.txt\n",
            "Dataset2 k-NN Imputation complete. Saved to Dataset2_KNNImputed.txt\n",
            "Dataset3 Mean Imputation complete. Saved to Dataset3_MeanImputed.txt\n",
            "Dataset3 k-NN Imputation complete. Saved to Dataset3_KNNImputed.txt\n"
          ]
        }
      ],
      "source": [
        "import pandas as pd\n",
        "from sklearn.impute import KNNImputer\n",
        "import numpy as np\n",
        "\n",
        "# Replace the file names below with the actual file paths\n",
        "dataset_files = {\n",
        "    \"Dataset1\": \"MissingData1.txt\",\n",
        "    \"Dataset2\": \"MissingData2.txt\",\n",
        "    \"Dataset3\": \"MissingData3.txt\"\n",
        "}\n",
        "\n",
        "# Imputation Methods\n",
        "def mean_imputation(data):\n",
        "    \"\"\"Impute missing values using column means.\"\"\"\n",
        "    return data.apply(lambda col: col.fillna(col.mean()), axis=0)\n",
        "\n",
        "def knn_imputation(data, n_neighbors=5):\n",
        "    \"\"\"Impute missing values using k-NN imputer.\"\"\"\n",
        "    imputer = KNNImputer(n_neighbors=n_neighbors)\n",
        "    return pd.DataFrame(imputer.fit_transform(data), columns=data.columns)\n",
        "\n",
        "# Process datasets\n",
        "for dataset_name, file_path in dataset_files.items():\n",
        "    # Load dataset\n",
        "    data = pd.read_csv(file_path, delimiter='\\t', header=None)\n",
        "    # Replace missing values (1.00000000000000e+99) with NaN\n",
        "    data.replace(1.00000000000000e+99, np.nan, inplace=True)\n",
        "\n",
        "    # Mean Imputation\n",
        "    mean_imputed_data = mean_imputation(data)\n",
        "    mean_imputed_data.to_csv(f\"{dataset_name}_MeanImputed.txt\", sep='\\t', index=False, header=False)\n",
        "    print(f\"{dataset_name} Mean Imputation complete. Saved to {dataset_name}_MeanImputed.txt\")\n",
        "\n",
        "    # k-NN Imputation\n",
        "    knn_imputed_data = knn_imputation(data)\n",
        "    knn_imputed_data.to_csv(f\"{dataset_name}_KNNImputed.txt\", sep='\\t', index=False, header=False)\n",
        "    print(f\"{dataset_name} k-NN Imputation complete. Saved to {dataset_name}_KNNImputed.txt\")\n"
      ]
    }
  ]
}